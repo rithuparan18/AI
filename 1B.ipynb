{
 "cells": [
  {
   "cell_type": "code",
   "execution_count": 1,
   "id": "51f7e525-bf50-4891-94c5-49cfa7d4be7d",
   "metadata": {},
   "outputs": [
    {
     "name": "stdout",
     "output_type": "stream",
     "text": [
      "Enter the number of queens:\n"
     ]
    },
    {
     "name": "stdin",
     "output_type": "stream",
     "text": [
      " 8\n"
     ]
    },
    {
     "name": "stdout",
     "output_type": "stream",
     "text": [
      "Solution exists. Placements of queens:\n",
      "[1, 0, 0, 0, 0, 0, 0, 0]\n",
      "[0, 0, 0, 0, 1, 0, 0, 0]\n",
      "[0, 0, 0, 0, 0, 0, 0, 1]\n",
      "[0, 0, 0, 0, 0, 1, 0, 0]\n",
      "[0, 0, 1, 0, 0, 0, 0, 0]\n",
      "[0, 0, 0, 0, 0, 0, 1, 0]\n",
      "[0, 1, 0, 0, 0, 0, 0, 0]\n",
      "[0, 0, 0, 1, 0, 0, 0, 0]\n"
     ]
    }
   ],
   "source": [
    "print(\"Enter the number of queens:\")\n",
    "N = int(input())\n",
    "\n",
    "# Create a chessboard NxN matrix with all elements set to 0\n",
    "board = [[0] * N for _ in range(N)]\n",
    "\n",
    "def is_safe(row, col):\n",
    "    # Check column (no queen should be in the same column)\n",
    "    for i in range(row):\n",
    "        if board[i][col] == 1:\n",
    "            return False\n",
    "\n",
    "    # Check upper-left diagonal\n",
    "    i, j = row, col\n",
    "    while i >= 0 and j >= 0:\n",
    "        if board[i][j] == 1:\n",
    "            return False\n",
    "        i -= 1\n",
    "        j -= 1\n",
    "\n",
    "    # Check upper-right diagonal\n",
    "    i, j = row, col\n",
    "    while i >= 0 and j < N:\n",
    "        if board[i][j] == 1:\n",
    "            return False\n",
    "        i -= 1\n",
    "        j += 1\n",
    "\n",
    "    return True  # Safe to place a queen\n",
    "\n",
    "def solve_n_queens(row):\n",
    "    if row >= N:  # All queens are placed successfully\n",
    "        return True\n",
    "\n",
    "    for col in range(N):  # Try placing a queen in each column\n",
    "        if is_safe(row, col):\n",
    "            board[row][col] = 1  # Place the queen\n",
    "            if solve_n_queens(row + 1):  # Move to next row\n",
    "                return True\n",
    "            board[row][col] = 0  # Backtrack if no solution is found\n",
    "\n",
    "    return False  # No valid position for this row\n",
    "\n",
    "# Start solving from the first row\n",
    "if solve_n_queens(0):\n",
    "    print(\"Solution exists. Placements of queens:\")\n",
    "    for row in board:\n",
    "        print(row)\n",
    "else:\n",
    "    print(\"No solution exists.\")"
   ]
  },
  {
   "cell_type": "code",
   "execution_count": null,
   "id": "b7a78b38-185a-4f41-9819-5dd094c607f9",
   "metadata": {},
   "outputs": [],
   "source": []
  }
 ],
 "metadata": {
  "kernelspec": {
   "display_name": "Python [conda env:base] *",
   "language": "python",
   "name": "conda-base-py"
  },
  "language_info": {
   "codemirror_mode": {
    "name": "ipython",
    "version": 3
   },
   "file_extension": ".py",
   "mimetype": "text/x-python",
   "name": "python",
   "nbconvert_exporter": "python",
   "pygments_lexer": "ipython3",
   "version": "3.12.7"
  }
 },
 "nbformat": 4,
 "nbformat_minor": 5
}

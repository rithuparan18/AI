{
 "cells": [
  {
   "cell_type": "code",
   "execution_count": 8,
   "id": "358f21f7-0b14-4ba9-9cd5-3f04a58f94e5",
   "metadata": {},
   "outputs": [
    {
     "ename": "AttributeError",
     "evalue": "'Graph' object has no attribute 'graph'",
     "output_type": "error",
     "traceback": [
      "\u001b[1;31m---------------------------------------------------------------------------\u001b[0m",
      "\u001b[1;31mAttributeError\u001b[0m                            Traceback (most recent call last)",
      "Cell \u001b[1;32mIn[8], line 34\u001b[0m\n\u001b[0;32m     32\u001b[0m \u001b[38;5;66;03m# Driver code\u001b[39;00m\n\u001b[0;32m     33\u001b[0m g \u001b[38;5;241m=\u001b[39m Graph()\n\u001b[1;32m---> 34\u001b[0m g\u001b[38;5;241m.\u001b[39maddEdge(\u001b[38;5;241m0\u001b[39m, \u001b[38;5;241m1\u001b[39m)\n\u001b[0;32m     35\u001b[0m g\u001b[38;5;241m.\u001b[39maddEdge(\u001b[38;5;241m0\u001b[39m, \u001b[38;5;241m2\u001b[39m)\n\u001b[0;32m     36\u001b[0m g\u001b[38;5;241m.\u001b[39maddEdge(\u001b[38;5;241m1\u001b[39m, \u001b[38;5;241m2\u001b[39m)\n",
      "Cell \u001b[1;32mIn[8], line 10\u001b[0m, in \u001b[0;36mGraph.addEdge\u001b[1;34m(self, u, v)\u001b[0m\n\u001b[0;32m      9\u001b[0m \u001b[38;5;28;01mdef\u001b[39;00m \u001b[38;5;21maddEdge\u001b[39m(\u001b[38;5;28mself\u001b[39m, u, v):\n\u001b[1;32m---> 10\u001b[0m     \u001b[38;5;28mself\u001b[39m\u001b[38;5;241m.\u001b[39mgraph[u]\u001b[38;5;241m.\u001b[39mappend(v)\n",
      "\u001b[1;31mAttributeError\u001b[0m: 'Graph' object has no attribute 'graph'"
     ]
    }
   ],
   "source": [
    "from collections import defaultdict\n",
    "\n",
    "class Graph:\n",
    "    def _init_(self):\n",
    "        # Default dictionary to store the graph\n",
    "        self.graph = defaultdict(list)\n",
    "\n",
    "    # Function to add an edge to the graph\n",
    "    def addEdge(self, u, v):\n",
    "        self.graph[u].append(v)\n",
    "\n",
    "    # Function to perform BFS traversal\n",
    "    def BFS(self, s):\n",
    "        # Mark all the vertices as not visited\n",
    "        visited = set()  \n",
    "\n",
    "        # Create a queue for BFS\n",
    "        queue = [s]\n",
    "        visited.add(s)  # Mark the source node as visited\n",
    "\n",
    "        while queue:\n",
    "            # Dequeue a vertex from queue and print it\n",
    "            s = queue.pop(0)\n",
    "            print(s, end=\" \")\n",
    "\n",
    "            # Get all adjacent vertices of the dequeued vertex s\n",
    "            for i in self.graph[s]:\n",
    "                if i not in visited:\n",
    "                    queue.append(i)\n",
    "                    visited.add(i)  # Mark node as visited when adding to queue\n",
    "\n",
    "# Driver code\n",
    "g = Graph()\n",
    "g.addEdge(0, 1)\n",
    "g.addEdge(0, 2)\n",
    "g.addEdge(1, 2)\n",
    "g.addEdge(2, 0)\n",
    "g.addEdge(2, 3)\n",
    "g.addEdge(3, 3)\n",
    "\n",
    "print(\"Following is Breadth First Traversal (starting from vertex 2):\")\n",
    "g.BFS(2)"
   ]
  },
  {
   "cell_type": "code",
   "execution_count": null,
   "id": "d1a5b785-de88-4d8f-9f5a-05a8df9874e0",
   "metadata": {},
   "outputs": [],
   "source": []
  },
  {
   "cell_type": "code",
   "execution_count": 12,
   "id": "8959061a-407d-4bb5-a10b-85f280c274ee",
   "metadata": {},
   "outputs": [
    {
     "ename": "AttributeError",
     "evalue": "'Graph' object has no attribute 'graph'",
     "output_type": "error",
     "traceback": [
      "\u001b[1;31m---------------------------------------------------------------------------\u001b[0m",
      "\u001b[1;31mAttributeError\u001b[0m                            Traceback (most recent call last)",
      "Cell \u001b[1;32mIn[12], line 34\u001b[0m\n\u001b[0;32m     32\u001b[0m \u001b[38;5;66;03m# Driver code\u001b[39;00m\n\u001b[0;32m     33\u001b[0m g \u001b[38;5;241m=\u001b[39m Graph()\n\u001b[1;32m---> 34\u001b[0m g\u001b[38;5;241m.\u001b[39maddEdge(\u001b[38;5;241m0\u001b[39m, \u001b[38;5;241m1\u001b[39m)\n\u001b[0;32m     35\u001b[0m g\u001b[38;5;241m.\u001b[39maddEdge(\u001b[38;5;241m0\u001b[39m, \u001b[38;5;241m2\u001b[39m)\n\u001b[0;32m     36\u001b[0m g\u001b[38;5;241m.\u001b[39maddEdge(\u001b[38;5;241m1\u001b[39m, \u001b[38;5;241m2\u001b[39m)\n",
      "Cell \u001b[1;32mIn[12], line 10\u001b[0m, in \u001b[0;36mGraph.addEdge\u001b[1;34m(self, u, v)\u001b[0m\n\u001b[0;32m      9\u001b[0m \u001b[38;5;28;01mdef\u001b[39;00m \u001b[38;5;21maddEdge\u001b[39m(\u001b[38;5;28mself\u001b[39m, u, v):\n\u001b[1;32m---> 10\u001b[0m     \u001b[38;5;28mself\u001b[39m\u001b[38;5;241m.\u001b[39mgraph(u)\u001b[38;5;241m.\u001b[39mappend(v)\n",
      "\u001b[1;31mAttributeError\u001b[0m: 'Graph' object has no attribute 'graph'"
     ]
    }
   ],
   "source": []
  },
  {
   "cell_type": "code",
   "execution_count": 14,
   "id": "6929ba73-58c5-495a-b376-1e973125b232",
   "metadata": {},
   "outputs": [
    {
     "ename": "AttributeError",
     "evalue": "'Graph' object has no attribute 'graph'",
     "output_type": "error",
     "traceback": [
      "\u001b[1;31m---------------------------------------------------------------------------\u001b[0m",
      "\u001b[1;31mAttributeError\u001b[0m                            Traceback (most recent call last)",
      "Cell \u001b[1;32mIn[14], line 34\u001b[0m\n\u001b[0;32m     32\u001b[0m \u001b[38;5;66;03m# Driver code\u001b[39;00m\n\u001b[0;32m     33\u001b[0m g \u001b[38;5;241m=\u001b[39m Graph()\n\u001b[1;32m---> 34\u001b[0m g\u001b[38;5;241m.\u001b[39maddEdge(\u001b[38;5;241m0\u001b[39m, \u001b[38;5;241m1\u001b[39m)\n\u001b[0;32m     35\u001b[0m g\u001b[38;5;241m.\u001b[39maddEdge(\u001b[38;5;241m0\u001b[39m, \u001b[38;5;241m2\u001b[39m)\n\u001b[0;32m     36\u001b[0m g\u001b[38;5;241m.\u001b[39maddEdge(\u001b[38;5;241m1\u001b[39m, \u001b[38;5;241m2\u001b[39m)\n",
      "Cell \u001b[1;32mIn[14], line 10\u001b[0m, in \u001b[0;36mGraph.addEdge\u001b[1;34m(self, u, v)\u001b[0m\n\u001b[0;32m      9\u001b[0m \u001b[38;5;28;01mdef\u001b[39;00m \u001b[38;5;21maddEdge\u001b[39m(\u001b[38;5;28mself\u001b[39m, u, v):\n\u001b[1;32m---> 10\u001b[0m     \u001b[38;5;28mself\u001b[39m\u001b[38;5;241m.\u001b[39mgraph[u]\u001b[38;5;241m.\u001b[39mappend(v)\n",
      "\u001b[1;31mAttributeError\u001b[0m: 'Graph' object has no attribute 'graph'"
     ]
    }
   ],
   "source": [
    "from collections import defaultdict\n",
    "\n",
    "class Graph:\n",
    "    def _init_(self):\n",
    "        # Default dictionary to store the graph\n",
    "        self.graph = defaultdict(list)\n",
    "\n",
    "    # Function to add an edge to the graph\n",
    "    def addEdge(self, u, v):\n",
    "        self.graph[u].append(v)\n",
    "\n",
    "    # Function to perform BFS traversal\n",
    "    def BFS(self, s):\n",
    "        # Mark all the vertices as not visited\n",
    "        visited = set()  \n",
    "\n",
    "        # Create a queue for BFS\n",
    "        queue = [s]\n",
    "        visited.add(s)  # Mark the source node as visited\n",
    "\n",
    "        while queue:\n",
    "            # Dequeue a vertex from queue and print it\n",
    "            s = queue.pop(0)\n",
    "            print(s, end=\" \")\n",
    "\n",
    "            # Get all adjacent vertices of the dequeued vertex s\n",
    "            for i in self.graph[s]:\n",
    "                if i not in visited:\n",
    "                    queue.append(i)\n",
    "                    visited.add(i)  # Mark node as visited when adding to queue\n",
    "\n",
    "# Driver code\n",
    "g = Graph()\n",
    "g.addEdge(0, 1)\n",
    "g.addEdge(0, 2)\n",
    "g.addEdge(1, 2)\n",
    "g.addEdge(2, 0)\n",
    "g.addEdge(2, 3)\n",
    "g.addEdge(3, 3)\n",
    "\n",
    "print(\"Following is Breadth First Traversal (starting from vertex 2):\")\n",
    "g.BFS(2)"
   ]
  },
  {
   "cell_type": "code",
   "execution_count": null,
   "id": "ff01efee-656e-4f7b-bfaa-d65f885a20c8",
   "metadata": {},
   "outputs": [],
   "source": []
  },
  {
   "cell_type": "code",
   "execution_count": 17,
   "id": "b1e57eb6-3d26-45c4-94a5-2b7e3b620cff",
   "metadata": {},
   "outputs": [
    {
     "name": "stdout",
     "output_type": "stream",
     "text": [
      "Following is Breadth First Traversal (starting from vertex 2):\n",
      "2 0 3 1 "
     ]
    }
   ],
   "source": [
    "from collections import defaultdict\n",
    "\n",
    "class Graph:\n",
    "    def __init__(self):  # Corrected constructor\n",
    "        # Default dictionary to store the graph\n",
    "        self.graph = defaultdict(list)\n",
    "\n",
    "    # Function to add an edge to the graph\n",
    "    def addEdge(self, u, v):\n",
    "        self.graph[u].append(v)\n",
    "\n",
    "    # Function to perform BFS traversal\n",
    "    def BFS(self, s):\n",
    "        # Mark all the vertices as not visited\n",
    "        visited = set()  \n",
    "\n",
    "        # Create a queue for BFS\n",
    "        queue = [s]\n",
    "        visited.add(s)  # Mark the source node as visited\n",
    "\n",
    "        while queue:\n",
    "            # Dequeue a vertex from queue and print it\n",
    "            s = queue.pop(0)\n",
    "            print(s, end=\" \")\n",
    "\n",
    "            # Get all adjacent vertices of the dequeued vertex s\n",
    "            for i in self.graph[s]:\n",
    "                if i not in visited:\n",
    "                    queue.append(i)\n",
    "                    visited.add(i)  # Mark node as visited when adding to queue\n",
    "\n",
    "# Driver code\n",
    "g = Graph()\n",
    "g.addEdge(0, 1)\n",
    "g.addEdge(0, 2)\n",
    "g.addEdge(1, 2)\n",
    "g.addEdge(2, 0)\n",
    "g.addEdge(2, 3)\n",
    "g.addEdge(3, 3)\n",
    "\n",
    "print(\"Following is Breadth First Traversal (starting from vertex 2):\")\n",
    "g.BFS(2)\n"
   ]
  },
  {
   "cell_type": "code",
   "execution_count": null,
   "id": "88a1d1ec-69d3-4224-8d1d-5a96dd3b65f8",
   "metadata": {},
   "outputs": [],
   "source": []
  }
 ],
 "metadata": {
  "kernelspec": {
   "display_name": "Python [conda env:base] *",
   "language": "python",
   "name": "conda-base-py"
  },
  "language_info": {
   "codemirror_mode": {
    "name": "ipython",
    "version": 3
   },
   "file_extension": ".py",
   "mimetype": "text/x-python",
   "name": "python",
   "nbconvert_exporter": "python",
   "pygments_lexer": "ipython3",
   "version": "3.12.7"
  }
 },
 "nbformat": 4,
 "nbformat_minor": 5
}
